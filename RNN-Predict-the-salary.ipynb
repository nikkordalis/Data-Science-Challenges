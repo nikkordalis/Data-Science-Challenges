{
 "cells": [
  {
   "cell_type": "markdown",
   "metadata": {},
   "source": [
    "#Your first Recurrent Neural Network (RNN)\n",
    "##Nikolaos Kordalis"
   ]
  },
  {
   "cell_type": "markdown",
   "metadata": {},
   "source": [
    "🙌 Welcome to RNNs! After using CNNs in the previous lesson to deal with images (spatial data), you are going to deal with time-related data (***temporal data***).\n",
    "\n",
    "🎯 Goals of this warm-up challenge:\n",
    "1. Understand what temporal data is\n",
    "2. Build your first Recurrent Neural Network\n",
    "\n"
   ]
  },
  {
   "cell_type": "markdown",
   "metadata": {},
   "source": [
    "# A Note on Google Colab"
   ]
  },
  {
   "cell_type": "markdown",
   "metadata": {},
   "source": [
    "From now on, you no longer need to use Google Colab. There will be **no performance gains** from using it, as today's machines are powerful enough as it is — especially if you're on a MacBook with an MX chip! 😉\n",
    "\n",
    "Proceed with the challenge as you normally would.\n",
    "\n",
    "Good luck! 🚀"
   ]
  },
  {
   "cell_type": "markdown",
   "metadata": {},
   "source": [
    "## (1) The dataset"
   ]
  },
  {
   "cell_type": "markdown",
   "metadata": {},
   "source": [
    "🔢 Imagine that we have access to some data about employees in a company."
   ]
  },
  {
   "cell_type": "code",
   "execution_count": 1,
   "metadata": {},
   "outputs": [],
   "source": [
    "import numpy as np\n",
    "\n",
    "X = np.load('X.npy')\n",
    "y = np.load('y.npy')"
   ]
  },
  {
   "cell_type": "code",
   "execution_count": 2,
   "metadata": {},
   "outputs": [
    {
     "data": {
      "text/plain": [
       "((25000, 10, 3), (25000,))"
      ]
     },
     "execution_count": 2,
     "metadata": {},
     "output_type": "execute_result"
    }
   ],
   "source": [
    "X.shape, y.shape"
   ]
  },
  {
   "cell_type": "markdown",
   "metadata": {},
   "source": [
    "\n",
    "X.shape = (n_SEQUENCES =25000, n_OBSERVATIONS = 10, n_FEATURES =3)"
   ]
  },
  {
   "cell_type": "markdown",
   "metadata": {},
   "source": [
    "☝️ The dataset describes the evolution of the **employment status of 25 000 employees, year after year**: each sequence corresponds to 10 consecutive years, where each year describes a job situation, comprising 3 components\n",
    "- the salary,\n",
    "- the number of people under someone's responsibility,\n",
    "- the size of the company. \n",
    "\n",
    "🕵🏻 To understand the dataset a bit better, let's look at the data of the first employee."
   ]
  },
  {
   "cell_type": "code",
   "execution_count": 3,
   "metadata": {},
   "outputs": [
    {
     "data": {
      "text/html": [
       "<div>\n",
       "<style scoped>\n",
       "    .dataframe tbody tr th:only-of-type {\n",
       "        vertical-align: middle;\n",
       "    }\n",
       "\n",
       "    .dataframe tbody tr th {\n",
       "        vertical-align: top;\n",
       "    }\n",
       "\n",
       "    .dataframe thead th {\n",
       "        text-align: right;\n",
       "    }\n",
       "</style>\n",
       "<table border=\"1\" class=\"dataframe\">\n",
       "  <thead>\n",
       "    <tr style=\"text-align: right;\">\n",
       "      <th></th>\n",
       "      <th>salary</th>\n",
       "      <th>responsibility</th>\n",
       "      <th>company_size</th>\n",
       "    </tr>\n",
       "  </thead>\n",
       "  <tbody>\n",
       "    <tr>\n",
       "      <th>0</th>\n",
       "      <td>0.80</td>\n",
       "      <td>21.0</td>\n",
       "      <td>22.0</td>\n",
       "    </tr>\n",
       "    <tr>\n",
       "      <th>1</th>\n",
       "      <td>3.45</td>\n",
       "      <td>21.0</td>\n",
       "      <td>1.0</td>\n",
       "    </tr>\n",
       "    <tr>\n",
       "      <th>2</th>\n",
       "      <td>3.51</td>\n",
       "      <td>0.0</td>\n",
       "      <td>1.0</td>\n",
       "    </tr>\n",
       "    <tr>\n",
       "      <th>3</th>\n",
       "      <td>1.64</td>\n",
       "      <td>0.0</td>\n",
       "      <td>1.0</td>\n",
       "    </tr>\n",
       "    <tr>\n",
       "      <th>4</th>\n",
       "      <td>1.75</td>\n",
       "      <td>0.0</td>\n",
       "      <td>1.0</td>\n",
       "    </tr>\n",
       "    <tr>\n",
       "      <th>5</th>\n",
       "      <td>1.84</td>\n",
       "      <td>0.0</td>\n",
       "      <td>2.0</td>\n",
       "    </tr>\n",
       "    <tr>\n",
       "      <th>6</th>\n",
       "      <td>2.05</td>\n",
       "      <td>0.0</td>\n",
       "      <td>2.0</td>\n",
       "    </tr>\n",
       "    <tr>\n",
       "      <th>7</th>\n",
       "      <td>2.14</td>\n",
       "      <td>0.0</td>\n",
       "      <td>2.0</td>\n",
       "    </tr>\n",
       "    <tr>\n",
       "      <th>8</th>\n",
       "      <td>2.27</td>\n",
       "      <td>0.0</td>\n",
       "      <td>1.0</td>\n",
       "    </tr>\n",
       "    <tr>\n",
       "      <th>9</th>\n",
       "      <td>2.37</td>\n",
       "      <td>0.0</td>\n",
       "      <td>1.0</td>\n",
       "    </tr>\n",
       "  </tbody>\n",
       "</table>\n",
       "</div>"
      ],
      "text/plain": [
       "   salary  responsibility  company_size\n",
       "0    0.80            21.0          22.0\n",
       "1    3.45            21.0           1.0\n",
       "2    3.51             0.0           1.0\n",
       "3    1.64             0.0           1.0\n",
       "4    1.75             0.0           1.0\n",
       "5    1.84             0.0           2.0\n",
       "6    2.05             0.0           2.0\n",
       "7    2.14             0.0           2.0\n",
       "8    2.27             0.0           1.0\n",
       "9    2.37             0.0           1.0"
      ]
     },
     "execution_count": 3,
     "metadata": {},
     "output_type": "execute_result"
    }
   ],
   "source": [
    "import pandas as pd\n",
    "\n",
    "employee_0 = pd.DataFrame(X[24999],\n",
    "                          columns=['salary',\n",
    "                                   'responsibility',\n",
    "                                   'company_size'])\n",
    "round(employee_0,2)"
   ]
  },
  {
   "cell_type": "markdown",
   "metadata": {},
   "source": [
    "🎯 The goal in this challenge is to predict the montly salary on the 11th year for each of these 25,000 employees, based on the past observations."
   ]
  },
  {
   "cell_type": "code",
   "execution_count": 4,
   "metadata": {},
   "outputs": [
    {
     "data": {
      "text/plain": [
       "6.499"
      ]
     },
     "execution_count": 4,
     "metadata": {},
     "output_type": "execute_result"
    }
   ],
   "source": [
    "# For example, the first employee earns 6.499 k USD per month\n",
    "# during the 11th year at the company\n",
    "y[0]"
   ]
  },
  {
   "cell_type": "markdown",
   "metadata": {},
   "source": [
    "📈 To help you get a better understanding about the evolution of the salaries, the number of people under their responsibility and the company size over the years, you can run the cell down below. Can you visually detect some correlations between these three variables?"
   ]
  },
  {
   "cell_type": "code",
   "execution_count": 5,
   "metadata": {},
   "outputs": [
    {
     "data": {
      "image/png": "[encoded data removed]",
      "text/plain": [
       "<Figure size 432x288 with 1 Axes>"
      ]
     },
     "metadata": {
      "needs_background": "light"
     },
     "output_type": "display_data"
    },
    {
     "data": {
      "image/png": "[encoded data removed]",
      "text/plain": [
       "<Figure size 432x288 with 1 Axes>"
      ]
     },
     "metadata": {
      "needs_background": "light"
     },
     "output_type": "display_data"
    },
    {
     "data": {
      "image/png": "[encoded data removed]",
      "text/plain": [
       "<Figure size 432x288 with 1 Axes>"
      ]
     },
     "metadata": {
      "needs_background": "light"
     },
     "output_type": "display_data"
    }
   ],
   "source": [
    "import matplotlib.pyplot as plt\n",
    "%matplotlib inline\n",
    "\n",
    "number_of_employees = len(X)\n",
    "number_of_randomly_selected_employees = 5\n",
    "\n",
    "random_selection = np.random.randint(0, \n",
    "                                     number_of_employees,\n",
    "                                     number_of_randomly_selected_employees)\n",
    "\n",
    "# As the employees are selected randomly, feel free to re-run this cell a few times !\n",
    "\n",
    "plt.title('Salary')\n",
    "\n",
    "for r in random_selection:\n",
    "    plt.plot(X[r, :, 0],label=f\"Employee number {r}\",linestyle=\":\",marker=\"o\")\n",
    "    plt.legend(loc='upper left')\n",
    "plt.show()\n",
    "\n",
    "plt.title('# People responsibile for')\n",
    "for r in random_selection:\n",
    "    plt.plot(X[r, :, 1],label=f\"Employee number {r}\",linestyle=\":\",marker=\"o\")\n",
    "    plt.legend(loc='upper left')\n",
    "plt.show()\n",
    "\n",
    "plt.title('Company sizes')\n",
    "for r in random_selection:\n",
    "    plt.plot(X[r, :, 2],label=f\"Employee number {r}\",linestyle=\":\",marker=\"o\")\n",
    "    plt.legend(loc='upper left')\n",
    "plt.show()"
   ]
  },
  {
   "cell_type": "markdown",
   "metadata": {},
   "source": [
    "❓ **Question** ❓ Plot the distribution of:\n",
    "* all the salaries during the 10th year, \n",
    "* people under someone's responsibility, \n",
    "* and the company sizes \n",
    "\n",
    "to get a better understanding of the variability of observations"
   ]
  },
  {
   "cell_type": "code",
   "execution_count": 6,
   "metadata": {},
   "outputs": [
    {
     "name": "stderr",
     "output_type": "stream",
     "text": [
      "/home/nikkord/.pyenv/versions/3.8.12/envs/lewagon/lib/python3.8/site-packages/scipy/__init__.py:146: UserWarning: A NumPy version >=1.16.5 and <1.23.0 is required for this version of SciPy (detected version 1.24.4\n",
      "  warnings.warn(f\"A NumPy version >={np_minversion} and <{np_maxversion}\"\n"
     ]
    },
    {
     "data": {
      "image/png": "[encoded data removed]",
      "text/plain": [
       "<Figure size 432x288 with 1 Axes>"
      ]
     },
     "metadata": {
      "needs_background": "light"
     },
     "output_type": "display_data"
    },
    {
     "data": {
      "image/png": "[encoded data removed]",
      "text/plain": [
       "<Figure size 432x288 with 1 Axes>"
      ]
     },
     "metadata": {
      "needs_background": "light"
     },
     "output_type": "display_data"
    },
    {
     "data": {
      "image/png": "[encoded data removed]",
      "text/plain": [
       "<Figure size 432x288 with 1 Axes>"
      ]
     },
     "metadata": {
      "needs_background": "light"
     },
     "output_type": "display_data"
    }
   ],
   "source": [
    "import seaborn as sns\n",
    "\n",
    "plt.title(\"Salaries on the 10th year\")\n",
    "sns.histplot(X[:, -1, 0].flatten()) # all the employees, last year, feature #0 = salaries\n",
    "plt.show()\n",
    "\n",
    "plt.title(\"# of people under someone's responsibility\")\n",
    "sns.histplot(X[:, :, 1].flatten()) # all the employees, all the years, feature #1 = responsabilities\n",
    "plt.show()\n",
    "\n",
    "plt.title(\"Company size\")\n",
    "sns.histplot(X[:, :, 2].flatten()) # all the employees, all the years, feature #2 = company size\n",
    "plt.show()"
   ]
  },
  {
   "cell_type": "markdown",
   "metadata": {},
   "source": [
    "❓ **Question** ❓  Split your dataset between a train and test set (80/20)"
   ]
  },
  {
   "cell_type": "code",
   "execution_count": 8,
   "metadata": {
    "tags": [
     "challengify"
    ],
    "vscode": {
     "languageId": "python"
    }
   },
   "outputs": [],
   "source": [
    " from sklearn.model_selection import train_test_split\n",
    "    \n",
    "X_train, X_test, y_train, y_test = train_test_split(X, y, test_size=0.20, random_state=0)"
   ]
  },
  {
   "cell_type": "markdown",
   "metadata": {},
   "source": [
    "## (2) A Simple RNN"
   ]
  },
  {
   "cell_type": "markdown",
   "metadata": {},
   "source": [
    "🤗 Now that you are familiar with this company's dataset, you will create your first Recurrent Neural Network. Let's start with a simple architecture."
   ]
  },
  {
   "cell_type": "markdown",
   "metadata": {},
   "source": [
    "❓ **Question** ❓ Write a model that has: \n",
    "- a ***Normalization*** layer adapted to the training set\n",
    "- a ***SimpleRNN*** layer with 20 *units* (don't forget that `tanh` is better suited as an activation function for a Recurrent Layer)\n",
    "- a ***Dense*** layer with 10 neurons\n",
    "- a ***Dense*** layer specific to your task (= to ***predict*** a salary)\n",
    "\n",
    "👩🏻‍🏫 <u>Remember</u>: You don't need to specify an `input_shape`: as soon as your Normalizer has been adapted to your train set, it has memorized the input shape!"
   ]
  },
  {
   "cell_type": "code",
   "execution_count": 9,
   "metadata": {},
   "outputs": [
    {
     "name": "stderr",
     "output_type": "stream",
     "text": [
      "2024-01-15 11:40:21.287927: W tensorflow/stream_executor/platform/default/dso_loader.cc:64] Could not load dynamic library 'libcudart.so.11.0'; dlerror: libcudart.so.11.0: cannot open shared object file: No such file or directory\n",
      "2024-01-15 11:40:21.287973: I tensorflow/stream_executor/cuda/cudart_stub.cc:29] Ignore above cudart dlerror if you do not have a GPU set up on your machine.\n"
     ]
    }
   ],
   "source": [
    "from tensorflow.keras.layers import Normalization\n",
    "from tensorflow.keras.models import Sequential\n",
    "from tensorflow.keras.layers import Dense, SimpleRNN, Flatten\n",
    "# from tensorflow.keras import layers"
   ]
  },
  {
   "cell_type": "code",
   "execution_count": 10,
   "metadata": {
    "tags": [
     "challengify"
    ],
    "vscode": {
     "languageId": "python"
    }
   },
   "outputs": [
    {
     "name": "stderr",
     "output_type": "stream",
     "text": [
      "2024-01-15 11:40:30.900549: W tensorflow/stream_executor/platform/default/dso_loader.cc:64] Could not load dynamic library 'libcuda.so.1'; dlerror: libcuda.so.1: cannot open shared object file: No such file or directory\n",
      "2024-01-15 11:40:30.900613: W tensorflow/stream_executor/cuda/cuda_driver.cc:269] failed call to cuInit: UNKNOWN ERROR (303)\n",
      "2024-01-15 11:40:30.900636: I tensorflow/stream_executor/cuda/cuda_diagnostics.cc:156] kernel driver does not appear to be running on this host (LAPTOP-93FH710P): /proc/driver/nvidia/version does not exist\n",
      "2024-01-15 11:40:30.900902: I tensorflow/core/platform/cpu_feature_guard.cc:151] This TensorFlow binary is optimized with oneAPI Deep Neural Network Library (oneDNN) to use the following CPU instructions in performance-critical operations:  AVX2 AVX512F FMA\n",
      "To enable them in other operations, rebuild TensorFlow with the appropriate compiler flags.\n"
     ]
    }
   ],
   "source": [
    "model = Sequential()\n",
    "\n",
    "normalization_layer =Normalization()\n",
    "normalization_layer.adapt(X_train)\n",
    "\n",
    "model.add(normalization_layer)\n",
    "model.add(SimpleRNN(units=20, activation='tanh', input_shape=(10,3)))\n",
    "model.add(Dense(10, activation=\"relu\"))\n",
    "\n",
    "model.add(Dense(1, activation=\"linear\"))"
   ]
  },
  {
   "cell_type": "markdown",
   "metadata": {},
   "source": [
    "❓ **Question**: How many trainable parameters does your RNN have ❓"
   ]
  },
  {
   "cell_type": "code",
   "execution_count": 11,
   "metadata": {
    "tags": [
     "challengify"
    ],
    "vscode": {
     "languageId": "python"
    }
   },
   "outputs": [
    {
     "name": "stdout",
     "output_type": "stream",
     "text": [
      "Model: \"sequential\"\n",
      "_________________________________________________________________\n",
      " Layer (type)                Output Shape              Param #   \n",
      "=================================================================\n",
      " normalization (Normalizatio  (None, None, 3)          7         \n",
      " n)                                                              \n",
      "                                                                 \n",
      " simple_rnn (SimpleRNN)      (None, 20)                480       \n",
      "                                                                 \n",
      " dense (Dense)               (None, 10)                210       \n",
      "                                                                 \n",
      " dense_1 (Dense)             (None, 1)                 11        \n",
      "                                                                 \n",
      "=================================================================\n",
      "Total params: 708\n",
      "Trainable params: 701\n",
      "Non-trainable params: 7\n",
      "_________________________________________________________________\n"
     ]
    }
   ],
   "source": [
    "model.summary()"
   ]
  },
  {
   "cell_type": "markdown",
   "metadata": {},
   "source": [
    "❓ **Question** ❓ Try to recompute the number of parameters manually.\n"
   ]
  },
  {
   "cell_type": "markdown",
   "metadata": {
    "tags": [
     "challengify"
    ]
   },
   "source": [
    "parameters  = 20 * ((3+20)+1)\n",
    "parameters"
   ]
  },
  {
   "cell_type": "markdown",
   "metadata": {},
   "source": [
    "❓ **Question** ❓ Compile your model. For RNN, we recommend you to use the ***rmsprop*** optimizer (instead of *adam*)."
   ]
  },
  {
   "cell_type": "code",
   "execution_count": 12,
   "metadata": {
    "tags": [
     "challengify"
    ],
    "vscode": {
     "languageId": "python"
    }
   },
   "outputs": [],
   "source": [
    "def compile_model(model):\n",
    "    model.compile(loss='mse',\n",
    "                  optimizer='rmsprop', \n",
    "                  metrics=['mae'])\n",
    "    return model\n",
    "\n",
    "model = compile_model(model)"
   ]
  },
  {
   "cell_type": "markdown",
   "metadata": {},
   "source": [
    "❓ **Questions** ❓ \n",
    "\n",
    "* Train your model on your training dataset:\n",
    "    * use a Validation Split of 20%\n",
    "    * and an Early Stopping Criterion with patience $= 5 $\n",
    "* Evaluate your performance on the test set"
   ]
  },
  {
   "cell_type": "code",
   "execution_count": 13,
   "metadata": {
    "tags": [
     "challengify"
    ],
    "vscode": {
     "languageId": "python"
    }
   },
   "outputs": [
    {
     "name": "stdout",
     "output_type": "stream",
     "text": [
      "Epoch 1/100\n",
      "1000/1000 [==============================] - 3s 3ms/step - loss: 7.8124 - mae: 1.0039 - val_loss: 1.2861 - val_mae: 0.4665\n",
      "Epoch 2/100\n",
      "1000/1000 [==============================] - 2s 2ms/step - loss: 1.5935 - mae: 0.4470 - val_loss: 0.8216 - val_mae: 0.3566\n",
      "Epoch 3/100\n",
      "1000/1000 [==============================] - 2s 2ms/step - loss: 1.1528 - mae: 0.3983 - val_loss: 0.7252 - val_mae: 0.3554\n",
      "Epoch 4/100\n",
      "1000/1000 [==============================] - 2s 2ms/step - loss: 0.9891 - mae: 0.3781 - val_loss: 0.6035 - val_mae: 0.3189\n",
      "Epoch 5/100\n",
      "1000/1000 [==============================] - 2s 2ms/step - loss: 0.8768 - mae: 0.3680 - val_loss: 0.6422 - val_mae: 0.4236\n",
      "Epoch 6/100\n",
      "1000/1000 [==============================] - 2s 2ms/step - loss: 0.7906 - mae: 0.3634 - val_loss: 0.5524 - val_mae: 0.2912\n",
      "Epoch 7/100\n",
      "1000/1000 [==============================] - 3s 3ms/step - loss: 0.7625 - mae: 0.3615 - val_loss: 0.5703 - val_mae: 0.3350\n",
      "Epoch 8/100\n",
      "1000/1000 [==============================] - 2s 2ms/step - loss: 0.7392 - mae: 0.3542 - val_loss: 0.5536 - val_mae: 0.3023\n",
      "Epoch 9/100\n",
      "1000/1000 [==============================] - 2s 2ms/step - loss: 0.7256 - mae: 0.3525 - val_loss: 0.5834 - val_mae: 0.2957\n",
      "Epoch 10/100\n",
      "1000/1000 [==============================] - 3s 3ms/step - loss: 0.7173 - mae: 0.3484 - val_loss: 0.5464 - val_mae: 0.2781\n",
      "Epoch 11/100\n",
      "1000/1000 [==============================] - 2s 2ms/step - loss: 0.7008 - mae: 0.3458 - val_loss: 0.5427 - val_mae: 0.2853\n",
      "Epoch 12/100\n",
      "1000/1000 [==============================] - 2s 2ms/step - loss: 0.6890 - mae: 0.3424 - val_loss: 0.5528 - val_mae: 0.2881\n",
      "Epoch 13/100\n",
      "1000/1000 [==============================] - 2s 2ms/step - loss: 0.6950 - mae: 0.3406 - val_loss: 0.5503 - val_mae: 0.3062\n",
      "Epoch 14/100\n",
      "1000/1000 [==============================] - 2s 2ms/step - loss: 0.6800 - mae: 0.3390 - val_loss: 0.5886 - val_mae: 0.3815\n",
      "Epoch 15/100\n",
      "1000/1000 [==============================] - 2s 2ms/step - loss: 0.6775 - mae: 0.3353 - val_loss: 0.5684 - val_mae: 0.3249\n",
      "Epoch 16/100\n",
      "1000/1000 [==============================] - 3s 3ms/step - loss: 0.6730 - mae: 0.3383 - val_loss: 0.5249 - val_mae: 0.2648\n",
      "Epoch 17/100\n",
      "1000/1000 [==============================] - 3s 3ms/step - loss: 0.6585 - mae: 0.3353 - val_loss: 0.5459 - val_mae: 0.3052\n",
      "Epoch 18/100\n",
      "1000/1000 [==============================] - 3s 3ms/step - loss: 0.6488 - mae: 0.3373 - val_loss: 0.5636 - val_mae: 0.3196\n",
      "Epoch 19/100\n",
      "1000/1000 [==============================] - 3s 3ms/step - loss: 0.6536 - mae: 0.3364 - val_loss: 0.7505 - val_mae: 0.4955\n",
      "Epoch 20/100\n",
      "1000/1000 [==============================] - 3s 3ms/step - loss: 0.6539 - mae: 0.3341 - val_loss: 0.6948 - val_mae: 0.4221\n",
      "Epoch 21/100\n",
      "1000/1000 [==============================] - 3s 3ms/step - loss: 0.6502 - mae: 0.3345 - val_loss: 0.5422 - val_mae: 0.2759\n"
     ]
    }
   ],
   "source": [
    "from tensorflow.keras.callbacks import EarlyStopping\n",
    "es = EarlyStopping(patience=5, restore_best_weights=True)\n",
    "\n",
    "history = model.fit(X_train, y_train,\n",
    "          batch_size=16,\n",
    "          epochs=100,\n",
    "          validation_split=0.2,\n",
    "          callbacks=[es])"
   ]
  },
  {
   "cell_type": "code",
   "execution_count": 29,
   "metadata": {},
   "outputs": [
    {
     "data": {
      "text/plain": [
       "<matplotlib.legend.Legend at 0x7f68cc148550>"
      ]
     },
     "execution_count": 29,
     "metadata": {},
     "output_type": "execute_result"
    },
    {
     "data": {
      "image/png": "[encoded data removed]",
      "text/plain": [
       "<Figure size 432x288 with 1 Axes>"
      ]
     },
     "metadata": {
      "needs_background": "light"
     },
     "output_type": "display_data"
    }
   ],
   "source": [
    "plt.plot(history.history[\"mae\"], label = \"Train MAE\")\n",
    "plt.plot(history.history[\"val_mae\"], label = \"Validation MAE\")\n",
    "plt.legend()"
   ]
  },
  {
   "cell_type": "code",
   "execution_count": 17,
   "metadata": {},
   "outputs": [
    {
     "name": "stdout",
     "output_type": "stream",
     "text": [
      "Model Mean Absolute Error 0.2563\n"
     ]
    }
   ],
   "source": [
    "model_mae = model.evaluate(X_test, y_test, verbose=0)\n",
    "print(f'Model Mean Absolute Error {model_mae[1]:.4f}')"
   ]
  },
  {
   "cell_type": "code",
   "execution_count": 30,
   "metadata": {},
   "outputs": [],
   "source": [
    "# Assuming you have a set of data for which you want predictions (e.g., X_test)\n",
    "predictions = model.predict(X_test)\n",
    "\n",
    "# 'predictions' now contains the model's predicted salaries for the 11th year\n"
   ]
  },
  {
   "cell_type": "code",
   "execution_count": 31,
   "metadata": {},
   "outputs": [
    {
     "data": {
      "text/plain": [
       "array([[2.2946732],\n",
       "       [2.1460714],\n",
       "       [9.646759 ],\n",
       "       ...,\n",
       "       [3.4511018],\n",
       "       [1.9500704],\n",
       "       [2.2482586]], dtype=float32)"
      ]
     },
     "execution_count": 31,
     "metadata": {},
     "output_type": "execute_result"
    }
   ],
   "source": [
    "predictions"
   ]
  },
  {
   "cell_type": "markdown",
   "metadata": {},
   "source": [
    "## (3) Baseline comparison"
   ]
  },
  {
   "cell_type": "markdown",
   "metadata": {},
   "source": [
    "❗️ **Important Reminder** ❗️: Always remember to compare your Deep Learning models, and more generally any Machine Learning model, to a baseline. \n",
    "\n",
    "🧑🏻‍🏫 Remember that our goal is to predict the salary of the employees for the 11th year. It is a ***Regression Task***. What baseline could we build? \n",
    "1. In the case of a traditional regression model, a baseline prediction for `y_test` is  to **predict the average of `y_train`**... but this option could be irrelevant for time-related series. Theoretically, someone's salary is supposed to increase over the years!\n",
    "2. An alternative baseline prediction for a regression task is to **predict the last seen value**"
   ]
  },
  {
   "cell_type": "markdown",
   "metadata": {},
   "source": [
    "❓ **Questions** ❓ \n",
    "* Compute the Mean Absolute Error of a baseline model that predicts that the salary remains constant between the 10-th and 11-th year\n",
    "* Compare this baseline model to your RNN"
   ]
  },
  {
   "cell_type": "code",
   "execution_count": 18,
   "metadata": {},
   "outputs": [
    {
     "name": "stdout",
     "output_type": "stream",
     "text": [
      "Baseline MAE = 0.595\n",
      "vs.\n",
      "RNN MAE = 0.256\n"
     ]
    }
   ],
   "source": [
    "def constant_prediction(X, y):\n",
    "    errors = []\n",
    "    for xx, yy in zip(X, y):\n",
    "        last_salary = xx[-1][0]        # Using the 10th salary to predict the 11th salary\n",
    "        errors.append(yy - last_salary)\n",
    "        \n",
    "    return errors\n",
    "\n",
    "errors_baseline = constant_prediction(X, y)\n",
    "mae_baseline = np.mean(np.abs(errors_baseline))\n",
    "\n",
    "print(f'Baseline MAE = {mae_baseline:.3f}')\n",
    "print(\"vs.\")\n",
    "print(f'RNN MAE = {model_mae[1]:.3f}')"
   ]
  },
  {
   "cell_type": "code",
   "execution_count": 21,
   "metadata": {
    "tags": [
     "challengify"
    ],
    "vscode": {
     "languageId": "python"
    }
   },
   "outputs": [
    {
     "data": {
      "text/plain": [
       "(25000,)"
      ]
     },
     "execution_count": 21,
     "metadata": {},
     "output_type": "execute_result"
    }
   ],
   "source": [
    "# from sklearn.metrics import mean_absolute_error\n",
    "# X[:,9,0].shape\n",
    "# y_pred_last = X[:,9,0]\n",
    "# y_pred_last"
   ]
  },
  {
   "cell_type": "code",
   "execution_count": 118,
   "metadata": {},
   "outputs": [
    {
     "data": {
      "text/plain": [
       "0.5951943998979569"
      ]
     },
     "execution_count": 118,
     "metadata": {},
     "output_type": "execute_result"
    }
   ],
   "source": [
    "# Baseline model\n",
    "mean_absolute_error(y,y_pred_last)"
   ]
  },
  {
   "cell_type": "code",
   "execution_count": 119,
   "metadata": {},
   "outputs": [
    {
     "name": "stdout",
     "output_type": "stream",
     "text": [
      "157/157 [==============================] - 1s 3ms/step - loss: 0.6365 - mae: 0.2782\n"
     ]
    },
    {
     "data": {
      "text/plain": [
       "[0.6364935636520386, 0.2782015800476074]"
      ]
     },
     "execution_count": 119,
     "metadata": {},
     "output_type": "execute_result"
    }
   ],
   "source": [
    "# Our model\n",
    "model.evaluate(X_test,y_test)"
   ]
  },
  {
   "cell_type": "markdown",
   "metadata": {},
   "source": [
    "😁 You should notice that your RNN performs a bit better than a baseline model."
   ]
  },
  {
   "cell_type": "markdown",
   "metadata": {},
   "source": [
    "## (4) LSTM: Long-Short Term Memory"
   ]
  },
  {
   "cell_type": "markdown",
   "metadata": {},
   "source": [
    "❓ **Questions** ❓ \n",
    "\n",
    "* Write the exact same model, but with a `LSTM` layer instead of a `SimpleRNN` layer\n",
    "* Evaluate your performance on the test set"
   ]
  },
  {
   "cell_type": "code",
   "execution_count": 22,
   "metadata": {
    "tags": [
     "challengify"
    ],
    "vscode": {
     "languageId": "python"
    }
   },
   "outputs": [],
   "source": [
    "from tensorflow.keras.layers import LSTM\n",
    "from tensorflow.keras.callbacks import EarlyStopping\n",
    "\n",
    "model_lstm = Sequential()\n",
    "\n",
    "# normalization_layer =Normalization()\n",
    "# normalization_layer.adapt(X_train)   same as above\n",
    "\n",
    "model_lstm.add(normalization_layer)\n",
    "model_lstm.add(LSTM(units=20, activation=\"tanh\"))  #input_shape=(10,3)?\n",
    "model_lstm.add(Dense(10, activation=\"relu\"))\n",
    "model_lstm.add(Dense(1, activation=\"linear\"))\n",
    "\n",
    "model_lstm.compile(loss=\"mse\",\n",
    "                   optimizer=\"rmsprop\",\n",
    "                   metrics=[\"mae\"])\n",
    "\n"
   ]
  },
  {
   "cell_type": "code",
   "execution_count": 23,
   "metadata": {},
   "outputs": [
    {
     "name": "stdout",
     "output_type": "stream",
     "text": [
      "Epoch 1/100\n",
      "1000/1000 [==============================] - 5s 4ms/step - loss: 15.8288 - mae: 1.6839 - val_loss: 2.9070 - val_mae: 0.6806\n",
      "Epoch 2/100\n",
      "1000/1000 [==============================] - 4s 4ms/step - loss: 2.5412 - mae: 0.4897 - val_loss: 0.9327 - val_mae: 0.3165\n",
      "Epoch 3/100\n",
      "1000/1000 [==============================] - 4s 4ms/step - loss: 1.2767 - mae: 0.3543 - val_loss: 0.7087 - val_mae: 0.3006\n",
      "Epoch 4/100\n",
      "1000/1000 [==============================] - 4s 4ms/step - loss: 1.0070 - mae: 0.3309 - val_loss: 0.6021 - val_mae: 0.2966\n",
      "Epoch 5/100\n",
      "1000/1000 [==============================] - 4s 4ms/step - loss: 0.8746 - mae: 0.3178 - val_loss: 0.5715 - val_mae: 0.2746\n",
      "Epoch 6/100\n",
      "1000/1000 [==============================] - 3s 3ms/step - loss: 0.7950 - mae: 0.3108 - val_loss: 0.5646 - val_mae: 0.3027\n",
      "Epoch 7/100\n",
      "1000/1000 [==============================] - 4s 4ms/step - loss: 0.7500 - mae: 0.3065 - val_loss: 0.5572 - val_mae: 0.2758\n",
      "Epoch 8/100\n",
      "1000/1000 [==============================] - 4s 4ms/step - loss: 0.7085 - mae: 0.3036 - val_loss: 0.5707 - val_mae: 0.2963\n",
      "Epoch 9/100\n",
      "1000/1000 [==============================] - 4s 4ms/step - loss: 0.6859 - mae: 0.2987 - val_loss: 0.5462 - val_mae: 0.2675\n",
      "Epoch 10/100\n",
      "1000/1000 [==============================] - 4s 4ms/step - loss: 0.6733 - mae: 0.2938 - val_loss: 0.5678 - val_mae: 0.2728\n",
      "Epoch 11/100\n",
      "1000/1000 [==============================] - 4s 4ms/step - loss: 0.6590 - mae: 0.2905 - val_loss: 0.5688 - val_mae: 0.2850\n",
      "Epoch 12/100\n",
      "1000/1000 [==============================] - 5s 5ms/step - loss: 0.6461 - mae: 0.2918 - val_loss: 0.5660 - val_mae: 0.3021\n",
      "Epoch 13/100\n",
      "1000/1000 [==============================] - 5s 5ms/step - loss: 0.6477 - mae: 0.2863 - val_loss: 0.5480 - val_mae: 0.2567\n",
      "Epoch 14/100\n",
      "1000/1000 [==============================] - 5s 5ms/step - loss: 0.6336 - mae: 0.2844 - val_loss: 0.5795 - val_mae: 0.2855\n"
     ]
    }
   ],
   "source": [
    "es = EarlyStopping(patience=5, restore_best_weights=True)\n",
    "\n",
    "history_lstm = model_lstm.fit(X_train, y_train,\n",
    "          batch_size=16,\n",
    "          epochs=100,\n",
    "          validation_split=0.2,\n",
    "          callbacks=[es],\n",
    "              verbose=1)"
   ]
  },
  {
   "cell_type": "code",
   "execution_count": 24,
   "metadata": {},
   "outputs": [],
   "source": [
    "# plt.plot(history_LSTM.history[\"mae\"])\n",
    "# plt.plot(history_LSTM.history[\"val_mae\"])"
   ]
  },
  {
   "cell_type": "code",
   "execution_count": 25,
   "metadata": {},
   "outputs": [
    {
     "name": "stdout",
     "output_type": "stream",
     "text": [
      "157/157 [==============================] - 1s 2ms/step - loss: 0.5876 - mae: 0.2585\n"
     ]
    }
   ],
   "source": [
    "lstm_mae = model_lstm.evaluate(X_test,y_test)"
   ]
  },
  {
   "cell_type": "code",
   "execution_count": 26,
   "metadata": {},
   "outputs": [
    {
     "name": "stdout",
     "output_type": "stream",
     "text": [
      "Baseline MAE = 0.595\n",
      "vs.\n",
      "RNN MAE = 0.256\n",
      "vs.\n",
      "LSTM MAE = 0.258\n"
     ]
    }
   ],
   "source": [
    "print(f'Baseline MAE = {mae_baseline:.3f}')\n",
    "print(\"vs.\")\n",
    "print(f'RNN MAE = {model_mae[1]:.3f}')\n",
    "print(\"vs.\")\n",
    "print(f'LSTM MAE = {lstm_mae[1]:.3f}')"
   ]
  },
  {
   "cell_type": "markdown",
   "metadata": {},
   "source": [
    "💪 The LSTM should perform a bit better than the SimpleRNN with a lower MAE."
   ]
  },
  {
   "cell_type": "markdown",
   "metadata": {},
   "source": [
    "🏁 Congratulations! You know how to train a RNN on sequential data.\n",
    " \n",
    "\n",
    "💾 Do not forget to git add/commit/push your notebook...\n",
    "\n",
    "🚀 ... and move to the next challenge!\n",
    "\n",
    "---\n",
    "\n",
    "<u>Note</u>: The sequences you worked with are totally fake. In case, you need to train and reproduce similar data, you can find below the functions that have been used to simulate such a dataset."
   ]
  },
  {
   "cell_type": "markdown",
   "metadata": {},
   "source": [
    "## (Utils)"
   ]
  },
  {
   "cell_type": "code",
   "execution_count": 27,
   "metadata": {
    "vscode": {
     "languageId": "python"
    }
   },
   "outputs": [],
   "source": [
    "def create_sequences(number):\n",
    "    X, y = [], []\n",
    "    \n",
    "    for i in range(number):\n",
    "        x_i, y_i = create_individual_sequence(10)\n",
    "        X.append(x_i)\n",
    "        y.append(y_i)\n",
    "        \n",
    "    return np.array(X), np.array(y)\n",
    "            \n",
    "def create_individual_sequence(length):\n",
    "    company_sizes = []\n",
    "    nb_persons = []\n",
    "    salaries = []\n",
    "    \n",
    "    \n",
    "    # Education level\n",
    "    educ_level = [max(0, int(np.random.normal(10, 2)))]*length\n",
    "    \n",
    "    # Company size\n",
    "    current_size = int(1 + np.random.beta(.4, 4)*500)\n",
    "    for i in range(length):\n",
    "        if not np.random.randint(4): # Change 1 out of 3 possibilities \n",
    "            current_size = int(max(1, np.random.normal(current_size, 50)))\n",
    "        company_sizes.append(current_size)\n",
    "    \n",
    "    # Number of persons\n",
    "    nb_iter = np.random.beta(.15, 4)*300\n",
    "    for i in range(length):\n",
    "        if not np.random.randint(2): # Change 1 out of 2 possibilities\n",
    "            R_1 = np.random.beta(0.5, 8)*3\n",
    "            nb_iter = nb_iter + max(-2, R_1*company_sizes[i] + np.random.randint(-2, 2))\n",
    "            nb_iter = max(0, nb_iter)\n",
    "            nb_iter = int(min(company_sizes[i]-1, nb_iter))\n",
    "        nb_persons.append(nb_iter)\n",
    "        \n",
    "    \n",
    "    # Salary\n",
    "    salary_iter = max(800, int(np.random.normal(1200, 300)+ 0.05*company_sizes[0] +  np.random.normal(40, 400)))\n",
    "    salaries.append(salary_iter)\n",
    "    for i in range(1, length + 1):\n",
    "        R_1 = np.random.normal(100, 50)\n",
    "        change_person = nb_persons[i-1] - nb_persons[i-2]\n",
    "        change_company = max(0, company_sizes[i-1] - company_sizes[i-2])\n",
    "        salary_iter = salary_iter + 0.05*change_company + change_person*R_1 + np.random.normal(100, 50)\n",
    "        salary_iter = max(int(salary_iter), 500)\n",
    "        \n",
    "        salaries.append(salary_iter)\n",
    "\n",
    "    y = salaries[-1]/1000\n",
    "    salaries = [_/1000 for _ in salaries[:-1]]\n",
    "    \n",
    "    return np.array([salaries, nb_persons, company_sizes]).T, y"
   ]
  },
  {
   "cell_type": "code",
   "execution_count": 28,
   "metadata": {
    "vscode": {
     "languageId": "python"
    }
   },
   "outputs": [],
   "source": [
    "#X, y = create_sequences(25000)\n",
    "\n",
    "#np.save('X', X.astype(np.float32))\n",
    "#np.save('y', y)"
   ]
  }
 ],
 "metadata": {
  "kernelspec": {
   "display_name": "Python 3 (ipykernel)",
   "language": "python",
   "name": "python3"
  },
  "language_info": {
   "codemirror_mode": {
    "name": "ipython",
    "version": 3
   },
   "file_extension": ".py",
   "mimetype": "text/x-python",
   "name": "python",
   "nbconvert_exporter": "python",
   "pygments_lexer": "ipython3",
   "version": "3.8.12"
  },
  "toc": {
   "base_numbering": 1,
   "nav_menu": {},
   "number_sections": true,
   "sideBar": true,
   "skip_h1_title": false,
   "title_cell": "Table of Contents",
   "title_sidebar": "Contents",
   "toc_cell": false,
   "toc_position": {},
   "toc_section_display": true,
   "toc_window_display": false
  },
  "varInspector": {
   "cols": {
    "lenName": 16,
    "lenType": 16,
    "lenVar": 40
   },
   "kernels_config": {
    "python": {
     "delete_cmd_postfix": "",
     "delete_cmd_prefix": "del ",
     "library": "var_list.py",
     "varRefreshCmd": "print(var_dic_list())"
    },
    "r": {
     "delete_cmd_postfix": ") ",
     "delete_cmd_prefix": "rm(",
     "library": "var_list.r",
     "varRefreshCmd": "cat(var_dic_list()) "
    }
   },
   "types_to_exclude": [
    "module",
    "function",
    "builtin_function_or_method",
    "instance",
    "_Feature"
   ],
   "window_display": false
  }
 },
 "nbformat": 4,
 "nbformat_minor": 4
}
